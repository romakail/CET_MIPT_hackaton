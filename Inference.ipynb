{
 "cells": [
  {
   "cell_type": "code",
   "execution_count": 1,
   "metadata": {},
   "outputs": [],
   "source": [
    "import torch\n",
    "import torch.nn as nn\n",
    "import torch.nn.functional as F\n",
    "from torch.autograd import Variable"
   ]
  },
  {
   "cell_type": "code",
   "execution_count": 2,
   "metadata": {},
   "outputs": [],
   "source": [
    "DEVICE_ID = 0\n",
    "DEVICE = torch.device('cuda:%d' % DEVICE_ID)\n",
    "\n",
    "# DEVICE = torch.device('cpu')"
   ]
  },
  {
   "cell_type": "code",
   "execution_count": 3,
   "metadata": {},
   "outputs": [],
   "source": [
    "def string_day_nomber(day):\n",
    "    return (str(int (day/100)%10) +\n",
    "            str(int (day/10)%10) +\n",
    "            str(int (day/1)%10))\n",
    "\n",
    "def create_mining_stuff(path):\n",
    "    ret = []\n",
    "    for i in range(9):\n",
    "        ret.append(torch.load(path + string_day_nomber(i)))\n",
    "    return ret\n"
   ]
  },
  {
   "cell_type": "code",
   "execution_count": 4,
   "metadata": {},
   "outputs": [],
   "source": [
    "injection = torch.load(\"Data/test_tensor_1div7\")\n",
    "mining_coordinates = create_mining_stuff(\"Data/test_mining_int_coordinates_1div7/input_tensor_int\")\n"
   ]
  },
  {
   "cell_type": "code",
   "execution_count": 5,
   "metadata": {},
   "outputs": [
    {
     "name": "stdout",
     "output_type": "stream",
     "text": [
      "torch.Size([9, 1, 50, 50])\n",
      "9\n"
     ]
    }
   ],
   "source": [
    "print (injection.shape)\n",
    "print (len(mining_coordinates))"
   ]
  },
  {
   "cell_type": "code",
   "execution_count": 6,
   "metadata": {},
   "outputs": [],
   "source": [
    "N_FEATURES_INJECTION = injection.shape[1]\n",
    "N_CELLS_HOR = injection.shape[2]\n",
    "N_CELLS_VER = injection.shape[3]"
   ]
  },
  {
   "cell_type": "code",
   "execution_count": 7,
   "metadata": {},
   "outputs": [],
   "source": [
    "class ConvBlock(nn.Module):\n",
    "    def __init__(self, in_channels, out_channels, kernel_size, stride=1, padding=1):\n",
    "        super(ConvBlock, self).__init__()\n",
    "        \n",
    "        self.CONV  = nn.Conv2d    (in_channels,\n",
    "                                   out_channels,\n",
    "                                   kernel_size=kernel_size,\n",
    "                                   stride=stride,\n",
    "                                   padding=padding,\n",
    "                                   bias=False)             # think about it later\n",
    "        \n",
    "        self.BNORM =nn.BatchNorm2d(out_channels,\n",
    "                                   eps=1e-05,\n",
    "                                   momentum=0.1,\n",
    "                                   affine=False)\n",
    "#         self.RELU  = nn.ReLU ()\n",
    "        \n",
    "#         self.MAXPOOL = nn.MaxPool2d(3,\n",
    "#                                     stride=1,\n",
    "#                                     padding=1,\n",
    "#                                     dilation=1)\n",
    "        \n",
    "    def forward(self, x):\n",
    "        #print ('sizeof(x) = ', x.size())\n",
    "        #print ('sizeof(xprev) = ', xprev.size())    \n",
    "        \n",
    "        x = self.CONV   (x)\n",
    "        x = self.BNORM  (x)\n",
    "#         x = self.RELU   (x)\n",
    "#         x = self.MAXPOOL(x)\n",
    "        \n",
    "        return x"
   ]
  },
  {
   "cell_type": "code",
   "execution_count": 8,
   "metadata": {},
   "outputs": [],
   "source": [
    "class MapToAmount (nn.Module):\n",
    "    def __init__(self, kernel_radius=1):\n",
    "        super(MapToAmount, self).__init__()\n",
    "        \n",
    "        self.n_features = int(2 * kernel_radius - 1) ** 2\n",
    "        self.linear = nn.Linear(self.n_features, 1)\n",
    "        \n",
    "    def forward(self, mapa):\n",
    "#         print (mapa.shape)\n",
    "#         print (self.n_features)\n",
    "#         print (mapa.view(self.n_features).shape)\n",
    "        return self.linear(mapa.view(self.n_features))  "
   ]
  },
  {
   "cell_type": "code",
   "execution_count": 9,
   "metadata": {},
   "outputs": [],
   "source": [
    "class LSTMCell (nn.Module):\n",
    "    \n",
    "    def __init__ (self,\n",
    "                  n_features_in,\n",
    "                  n_features_out,\n",
    "                  embedding_size=16,\n",
    "                  hidden_state_size=16,\n",
    "                  output_lin_radius=1):\n",
    "        super(self.__class__,self).__init__()\n",
    "        \n",
    "        self.out_rad  = output_lin_radius\n",
    "        self.emb_size = embedding_size\n",
    "        self.hid_size = hidden_state_size\n",
    "        \n",
    "#         self.embedding = ConvBlock (1, self.emb_size, kernel_size=3)\n",
    "        self.embedding = nn.Sequential(ConvBlock(n_features_in,\n",
    "                                                 self.emb_size,\n",
    "                                                 3),\n",
    "                                       nn.ReLU(),\n",
    "                                       ConvBlock(self.emb_size,\n",
    "                                                 self.emb_size,\n",
    "                                                 3))\n",
    "        \n",
    "        self.f_t = nn.Sequential (ConvBlock(self.hid_size + self.emb_size,\n",
    "                                            self.hid_size,\n",
    "                                            3),\n",
    "                                  nn.Sigmoid())\n",
    "        self.i_t = nn.Sequential (ConvBlock(self.hid_size + self.emb_size,\n",
    "                                            self.hid_size,\n",
    "                                            3),\n",
    "                                  nn.Sigmoid())\n",
    "        self.c_t = nn.Sequential (ConvBlock(self.hid_size + self.emb_size,\n",
    "                                            self.hid_size,\n",
    "                                            3),\n",
    "                                  nn.Tanh())\n",
    "        self.o_t = nn.Sequential (ConvBlock(self.hid_size + self.emb_size,\n",
    "                                            self.hid_size,\n",
    "                                            3),\n",
    "                                  nn.Sigmoid())\n",
    "        \n",
    "        \n",
    "        #===========Output stuff============================================\n",
    "        self.hidden_to_result = nn.Sequential (ConvBlock (hidden_state_size, \n",
    "                                                          hidden_state_size, \n",
    "                                                          kernel_size=3),\n",
    "                                               nn.ReLU   (),\n",
    "                                               # TODO BatchNorm\n",
    "                                               ConvBlock (hidden_state_size,\n",
    "                                                          n_features_out,\n",
    "                                                          kernel_size=3,\n",
    "                                                          padding=4))\n",
    "        \n",
    "        self.  oil_result = MapToAmount(kernel_radius=output_lin_radius)\n",
    "        self.water_result = MapToAmount(kernel_radius=output_lin_radius)\n",
    "        self.  gas_result = MapToAmount(kernel_radius=output_lin_radius)\n",
    "        \n",
    "        \n",
    "    def forward (self, x, prev_state, holes_coordinates):\n",
    "        (prev_c, prev_h) = prev_state\n",
    "        x_emb = self.embedding(x)\n",
    "        \n",
    "        x_and_h = torch.cat([prev_h, x_emb], dim=1)\n",
    "        \n",
    "        f_i = self.f_t(x_and_h)\n",
    "        i_i = self.i_t(x_and_h)\n",
    "        c_i = self.c_t(x_and_h)\n",
    "        o_i = self.o_t(x_and_h)\n",
    "        \n",
    "        next_c = prev_c * f_i + i_i * c_i\n",
    "        next_h = torch.tanh(next_c) * o_i\n",
    "        \n",
    "        assert prev_h.shape == next_h.shape\n",
    "        assert prev_c.shape == next_c.shape\n",
    "        \n",
    "        res_map = self.hidden_to_result(next_h)\n",
    "        res = torch.zeros(holes_coordinates.shape[0], 3, device=DEVICE)\n",
    "        for i in range(holes_coordinates.shape[0]):\n",
    "            x = holes_coordinates[i, 0].item()\n",
    "            y = holes_coordinates[i, 1].item()\n",
    "            loc_map = (torch.zeros(2*self.out_rad - 1, 2*self.out_rad - 1, device=DEVICE) +\n",
    "                       res_map[0, :, \n",
    "                              (x - self.out_rad + 1 + 3):(x + self.out_rad + 3),\n",
    "                              (y - self.out_rad + 1 + 3):(y + self.out_rad + 3)])\n",
    "#             print (\"x and y\", x, y)\n",
    "#             print (res_map.shape)\n",
    "            res[i, 0] = self.  oil_result(loc_map[0])\n",
    "            res[i, 1] = self.water_result(loc_map[1])\n",
    "            res[i, 2] = self.  gas_result(loc_map[2])\n",
    "            \n",
    "            \n",
    "        \n",
    "        return (next_c, next_h), res\n",
    "        \n",
    "    def init_state (self, batch_size, device=torch.device(\"cpu\")):\n",
    "        return (Variable(torch.ones(batch_size,\n",
    "                                     self.hid_size,\n",
    "                                     N_CELLS_HOR,\n",
    "                                     N_CELLS_VER,\n",
    "                                     device=device)),\n",
    "                Variable(torch.ones(batch_size,\n",
    "                                     self.hid_size,\n",
    "                                     N_CELLS_HOR,\n",
    "                                     N_CELLS_VER,\n",
    "                                     device=device)))\n",
    "               \n",
    "    "
   ]
  },
  {
   "cell_type": "code",
   "execution_count": 10,
   "metadata": {},
   "outputs": [],
   "source": [
    "def save_model_state(model, state):\n",
    "    torch.save(model.state_dict(), \"model_state/state_dict\")\n",
    "    torch.save(state[0]          , \"model_state/state_0\")\n",
    "    torch.save(state[1]          , \"model_state/state_1\")\n",
    "\n",
    "def load_model_state():\n",
    "    state=[]\n",
    "    model = LSTMCell(N_FEATURES_INJECTION,\n",
    "                     3,\n",
    "                     embedding_size=16,\n",
    "                     hidden_state_size=16,\n",
    "                     output_lin_radius=4)\n",
    "    model.load_state_dict(torch.load(\"model_state/state_dict\"))\n",
    "    state.append(torch.load(\"model_state/state_0\"))\n",
    "    state.append(torch.load(\"model_state/state_1\"))\n",
    "    return model, state\n",
    "    "
   ]
  },
  {
   "cell_type": "code",
   "execution_count": 11,
   "metadata": {},
   "outputs": [],
   "source": [
    "def predict_values (RNN_cell,\n",
    "                    hid_state,\n",
    "                    device,\n",
    "                    injection,\n",
    "                    mining_coordinates):\n",
    "    \n",
    "    RNN_cell.eval().to(device)\n",
    "    for elem in hid_state:\n",
    "        elem.to(device)\n",
    "\n",
    "    i = 0\n",
    "        \n",
    "    # hid_state = RNN_cell.init_state(batch_size=1, device=device)\n",
    "        \n",
    "    prediction_massive = []\n",
    "    for t in range(injection.shape[0]):\n",
    "\n",
    "        inputs      = injection[t].unsqueeze(0).to(device)\n",
    "        coordinates = mining_coordinates[t].to(device)\n",
    "\n",
    "        hid_state, prediction = RNN_cell.forward(inputs, hid_state, mining_coordinates[t])\n",
    "        prediction_massive.append(prediction)\n",
    "        \n",
    "    return prediction_massive"
   ]
  },
  {
   "cell_type": "code",
   "execution_count": 12,
   "metadata": {},
   "outputs": [],
   "source": [
    "RNN_model, last_hid_state = load_model_state()"
   ]
  },
  {
   "cell_type": "code",
   "execution_count": 13,
   "metadata": {},
   "outputs": [],
   "source": [
    "predict_massive = predict_values(RNN_model,\n",
    "                                 last_hid_state,\n",
    "                                 DEVICE,\n",
    "                                 injection,\n",
    "                                 mining_coordinates)"
   ]
  },
  {
   "cell_type": "code",
   "execution_count": 14,
   "metadata": {},
   "outputs": [
    {
     "name": "stdout",
     "output_type": "stream",
     "text": [
      "9\n"
     ]
    }
   ],
   "source": [
    "print (len(predict_massive))"
   ]
  },
  {
   "cell_type": "code",
   "execution_count": 15,
   "metadata": {},
   "outputs": [
    {
     "name": "stdout",
     "output_type": "stream",
     "text": [
      "-1.2023708820343018\n",
      "-1.4820276498794556\n",
      "-1.4950575828552246\n",
      "-1.4857209920883179\n",
      "-1.4193079471588135\n",
      "-1.3862135410308838\n",
      "-1.336254596710205\n",
      "-1.3194255828857422\n",
      "-1.3299812078475952\n"
     ]
    }
   ],
   "source": [
    "for elem in (predict_massive):\n",
    "    print (elem[:, 0].mean().item())"
   ]
  }
 ],
 "metadata": {
  "kernelspec": {
   "display_name": "Python 3",
   "language": "python",
   "name": "python3"
  },
  "language_info": {
   "codemirror_mode": {
    "name": "ipython",
    "version": 3
   },
   "file_extension": ".py",
   "mimetype": "text/x-python",
   "name": "python",
   "nbconvert_exporter": "python",
   "pygments_lexer": "ipython3",
   "version": "3.7.3"
  }
 },
 "nbformat": 4,
 "nbformat_minor": 2
}
